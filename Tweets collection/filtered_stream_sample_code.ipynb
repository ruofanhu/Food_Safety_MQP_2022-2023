{
  "nbformat": 4,
  "nbformat_minor": 0,
  "metadata": {
    "colab": {
      "provenance": [],
      "collapsed_sections": []
    },
    "kernelspec": {
      "name": "python3",
      "display_name": "Python 3"
    },
    "language_info": {
      "name": "python"
    }
  },
  "cells": [
    {
      "cell_type": "code",
      "source": [
        "! pip install tweetkit"
      ],
      "metadata": {
        "colab": {
          "base_uri": "https://localhost:8080/"
        },
        "id": "P-sz7hr6bu1r",
        "outputId": "0805f3b2-c61d-4b9e-b436-3000e59aa25f"
      },
      "execution_count": 2,
      "outputs": [
        {
          "output_type": "stream",
          "name": "stdout",
          "text": [
            "Looking in indexes: https://pypi.org/simple, https://us-python.pkg.dev/colab-wheels/public/simple/\n",
            "Collecting tweetkit\n",
            "  Downloading tweetkit-0.2.0-py3-none-any.whl (42 kB)\n",
            "\u001b[K     |████████████████████████████████| 42 kB 876 kB/s \n",
            "\u001b[?25hInstalling collected packages: tweetkit\n",
            "Successfully installed tweetkit-0.2.0\n"
          ]
        }
      ]
    },
    {
      "cell_type": "code",
      "execution_count": 5,
      "metadata": {
        "id": "2KUEEbbKbhp9"
      },
      "outputs": [],
      "source": [
        "\n",
        "import datetime\n",
        "\n",
        "from tweetkit.auth import BearerTokenAuth\n",
        "from tweetkit.client import TwitterClient"
      ]
    },
    {
      "cell_type": "code",
      "source": [
        "bearer_token  = '......'\n",
        "auth = BearerTokenAuth()\n",
        "auth.bearer_token = bearer_token\n",
        "client = TwitterClient(auth=auth)\n",
        "\n",
        "# Redundant connections https://developer.twitter.com/en/docs/twitter-api/tweets/filtered-stream/integrate/recovery-and-redundancy-features"
      ],
      "metadata": {
        "id": "eYLxc5ibb0iF"
      },
      "execution_count": 7,
      "outputs": []
    },
    {
      "cell_type": "code",
      "source": [
        "from tweetkit.auth import BearerTokenAuth\n",
        "from tweetkit.client import TwitterClient\n",
        "\n",
        "keywords = ['#foodpoisoning', '#stomachache', '\"food poison\"', '\"food poisoning\"', 'stomach', 'vomit', 'puke', 'diarrhea', '\"the runs\"']\n",
        "search_keywords = ' OR '.join(keywords) # search_keywords: #foodpoisoning OR #stomachache OR \"food poison\" OR \"food poisoning\" OR stomach OR vomit OR puke OR diarrhea OR \"the runs\"\n",
        "\n",
        "other_conditions = '-is:retweet lang:en' # has:geo\n",
        "\n",
        "final_query = '('+search_keywords+') '+ other_conditions\n",
        "\n",
        "\n",
        "rules = [\n",
        "    {'value': final_query, \n",
        "     \"tag\": \"food poisoning relevent tweets in English\"}\n",
        "]\n",
        "\n",
        "\n",
        "\n",
        "\n",
        "client = TwitterClient(auth=auth)\n",
        "\n",
        "# get all existing rules\n",
        "prv_rules = client.tweets.get_rules()\n",
        "\n",
        "if prv_rules is not None:\n",
        "    if prv_rules.errors is not None:\n",
        "        raise prv_rules.errors[0]\n",
        "    else:\n",
        "        prv_rules_ids = prv_rules.get('id')\n",
        "        # delete all rules if exist\n",
        "        status = None\n",
        "        if prv_rules_ids:\n",
        "            print('Deleting rules: [{}]'.format(', '.join(prv_rules_ids)))\n",
        "            status = client.tweets.add_or_delete_rules({'delete': {'ids': prv_rules_ids}})\n",
        "        if status is not None and status.errors is not None:\n",
        "            raise status.errors[0]\n",
        "\n",
        "# add new rules\n",
        "status = client.tweets.add_or_delete_rules({'add': rules})\n",
        "\n",
        "if status.errors is not None and len(status.errors) > 0:\n",
        "    raise status.errors[0]\n",
        "\n",
        "collection = []\n",
        "with client.tweets.search_stream() as stream:\n",
        "    for tweet in stream.content:\n",
        "        collection.append(tweet)\n",
        "\n",
        "        # To interupt the collecting, you should delete or update the condition below\n",
        "        if len(collection) >= 1:\n",
        "            break\n",
        "\n",
        "print(collection)"
      ],
      "metadata": {
        "colab": {
          "base_uri": "https://localhost:8080/"
        },
        "id": "z1iOJM2nLJZt",
        "outputId": "73c52988-c15c-429d-fa1d-48ea13c908ae"
      },
      "execution_count": 8,
      "outputs": [
        {
          "output_type": "stream",
          "name": "stdout",
          "text": [
            "Deleting rules: [1587435072650723331]\n",
            "[{'data': {'attachments': {}, 'author_id': '3351535519', 'conversation_id': '1587262183519490049', 'created_at': '2022-11-01T13:24:20.000Z', 'edit_controls': {'edits_remaining': 5, 'is_edit_eligible': False, 'editable_until': '2022-11-01T13:54:20.000Z'}, 'edit_history_tweet_ids': ['1587435372052619264'], 'entities': {'mentions': [{'start': 0, 'end': 13, 'username': 'JebraFaushay', 'id': '1524176909755510785'}]}, 'geo': {}, 'id': '1587435372052619264', 'in_reply_to_user_id': '1524176909755510785', 'lang': 'en', 'possibly_sensitive': False, 'public_metrics': {'retweet_count': 0, 'reply_count': 0, 'like_count': 0, 'quote_count': 0}, 'referenced_tweets': [{'type': 'replied_to', 'id': '1587262183519490049'}], 'reply_settings': 'everyone', 'source': 'Twitter for iPhone', 'text': '@JebraFaushay What?  He lies on a daily basis you’re upset someone called him on it or let the rest of it go?'}, 'includes': {'users': [{'created_at': '2015-08-26T19:19:16.000Z', 'description': 'mom gramma RN patriot huge Trump supporter firefighter wife 3 firefighter sons 2 marine sons trying to save the world for my grandkids', 'id': '3351535519', 'location': 'Nebraska, USA', 'name': 'Mama Coconut', 'profile_image_url': 'https://pbs.twimg.com/profile_images/1470496775156948995/mjnUEVpi_normal.jpg', 'protected': False, 'public_metrics': {'followers_count': 1053, 'following_count': 1178, 'tweet_count': 10094, 'listed_count': 0}, 'username': 'Bubbatsgirl', 'verified': False}, {'created_at': '2022-05-10T23:58:00.000Z', 'description': '* Practically a Doctor * 7% Native American  * Invisible Long Covid Survivor * Author of the book, “Is My Fetus Trans?”  * Par/ody* ☢️🏳\\u200d🌈🇺🇦', 'id': '1524176909755510785', 'location': 'SaTyre, CA', 'name': 'Dr. Jebra Faushay PhD 🔨', 'pinned_tweet_id': '1562869212569186307', 'profile_image_url': 'https://pbs.twimg.com/profile_images/1578219831974772736/bCz-YFLe_normal.jpg', 'protected': False, 'public_metrics': {'followers_count': 20147, 'following_count': 464, 'tweet_count': 13229, 'listed_count': 64}, 'username': 'JebraFaushay', 'verified': False}], 'tweets': [{'attachments': {}, 'author_id': '3351535519', 'conversation_id': '1587262183519490049', 'created_at': '2022-11-01T13:24:20.000Z', 'edit_controls': {'edits_remaining': 5, 'is_edit_eligible': False, 'editable_until': '2022-11-01T13:54:20.000Z'}, 'edit_history_tweet_ids': ['1587435372052619264'], 'entities': {'mentions': [{'start': 0, 'end': 13, 'username': 'JebraFaushay', 'id': '1524176909755510785'}]}, 'geo': {}, 'id': '1587435372052619264', 'in_reply_to_user_id': '1524176909755510785', 'lang': 'en', 'possibly_sensitive': False, 'public_metrics': {'retweet_count': 0, 'reply_count': 0, 'like_count': 0, 'quote_count': 0}, 'referenced_tweets': [{'type': 'replied_to', 'id': '1587262183519490049'}], 'reply_settings': 'everyone', 'source': 'Twitter for iPhone', 'text': '@JebraFaushay What?  He lies on a daily basis you’re upset someone called him on it or let the rest of it go?'}, {'attachments': {'media_keys': ['3_1587262179891445761']}, 'author_id': '1524176909755510785', 'conversation_id': '1587262183519490049', 'created_at': '2022-11-01T01:56:09.000Z', 'edit_controls': {'edits_remaining': 5, 'is_edit_eligible': True, 'editable_until': '2022-11-01T02:26:09.000Z'}, 'edit_history_tweet_ids': ['1587262183519490049'], 'entities': {'urls': [{'start': 85, 'end': 108, 'url': 'https://t.co/67ui7y8mvS', 'expanded_url': 'https://twitter.com/JebraFaushay/status/1587262183519490049/photo/1', 'display_url': 'pic.twitter.com/67ui7y8mvS', 'media_key': '3_1587262179891445761'}]}, 'geo': {}, 'id': '1587262183519490049', 'lang': 'en', 'possibly_sensitive': False, 'public_metrics': {'retweet_count': 1591, 'reply_count': 2777, 'like_count': 8650, 'quote_count': 365}, 'reply_settings': 'everyone', 'source': 'Twitter for iPhone', 'text': 'Look at this! The PRESIDENT is being fact checked. I’m literally sick to my stomach. https://t.co/67ui7y8mvS'}]}, 'errors': None, 'meta': None, 'dtype': 'Tweet'}]\n"
          ]
        }
      ]
    },
    {
      "cell_type": "code",
      "source": [
        "collection[0]"
      ],
      "metadata": {
        "colab": {
          "base_uri": "https://localhost:8080/"
        },
        "id": "ZCnKkgR9XYPL",
        "outputId": "f6d9508a-4e73-405f-c2a9-133ac17b610d"
      },
      "execution_count": 10,
      "outputs": [
        {
          "output_type": "execute_result",
          "data": {
            "text/plain": [
              "{'data': {'attachments': {},\n",
              "  'author_id': '3351535519',\n",
              "  'conversation_id': '1587262183519490049',\n",
              "  'created_at': '2022-11-01T13:24:20.000Z',\n",
              "  'edit_controls': {'edits_remaining': 5,\n",
              "   'is_edit_eligible': False,\n",
              "   'editable_until': '2022-11-01T13:54:20.000Z'},\n",
              "  'edit_history_tweet_ids': ['1587435372052619264'],\n",
              "  'entities': {'mentions': [{'start': 0,\n",
              "     'end': 13,\n",
              "     'username': 'JebraFaushay',\n",
              "     'id': '1524176909755510785'}]},\n",
              "  'geo': {},\n",
              "  'id': '1587435372052619264',\n",
              "  'in_reply_to_user_id': '1524176909755510785',\n",
              "  'lang': 'en',\n",
              "  'possibly_sensitive': False,\n",
              "  'public_metrics': {'retweet_count': 0,\n",
              "   'reply_count': 0,\n",
              "   'like_count': 0,\n",
              "   'quote_count': 0},\n",
              "  'referenced_tweets': [{'type': 'replied_to', 'id': '1587262183519490049'}],\n",
              "  'reply_settings': 'everyone',\n",
              "  'source': 'Twitter for iPhone',\n",
              "  'text': '@JebraFaushay What?  He lies on a daily basis you’re upset someone called him on it or let the rest of it go?'},\n",
              " 'includes': {'users': [{'created_at': '2015-08-26T19:19:16.000Z',\n",
              "    'description': 'mom gramma RN patriot huge Trump supporter firefighter wife 3 firefighter sons 2 marine sons trying to save the world for my grandkids',\n",
              "    'id': '3351535519',\n",
              "    'location': 'Nebraska, USA',\n",
              "    'name': 'Mama Coconut',\n",
              "    'profile_image_url': 'https://pbs.twimg.com/profile_images/1470496775156948995/mjnUEVpi_normal.jpg',\n",
              "    'protected': False,\n",
              "    'public_metrics': {'followers_count': 1053,\n",
              "     'following_count': 1178,\n",
              "     'tweet_count': 10094,\n",
              "     'listed_count': 0},\n",
              "    'username': 'Bubbatsgirl',\n",
              "    'verified': False},\n",
              "   {'created_at': '2022-05-10T23:58:00.000Z',\n",
              "    'description': '* Practically a Doctor * 7% Native American  * Invisible Long Covid Survivor * Author of the book, “Is My Fetus Trans?”  * Par/ody* ☢️🏳\\u200d🌈🇺🇦',\n",
              "    'id': '1524176909755510785',\n",
              "    'location': 'SaTyre, CA',\n",
              "    'name': 'Dr. Jebra Faushay PhD 🔨',\n",
              "    'pinned_tweet_id': '1562869212569186307',\n",
              "    'profile_image_url': 'https://pbs.twimg.com/profile_images/1578219831974772736/bCz-YFLe_normal.jpg',\n",
              "    'protected': False,\n",
              "    'public_metrics': {'followers_count': 20147,\n",
              "     'following_count': 464,\n",
              "     'tweet_count': 13229,\n",
              "     'listed_count': 64},\n",
              "    'username': 'JebraFaushay',\n",
              "    'verified': False}],\n",
              "  'tweets': [{'attachments': {},\n",
              "    'author_id': '3351535519',\n",
              "    'conversation_id': '1587262183519490049',\n",
              "    'created_at': '2022-11-01T13:24:20.000Z',\n",
              "    'edit_controls': {'edits_remaining': 5,\n",
              "     'is_edit_eligible': False,\n",
              "     'editable_until': '2022-11-01T13:54:20.000Z'},\n",
              "    'edit_history_tweet_ids': ['1587435372052619264'],\n",
              "    'entities': {'mentions': [{'start': 0,\n",
              "       'end': 13,\n",
              "       'username': 'JebraFaushay',\n",
              "       'id': '1524176909755510785'}]},\n",
              "    'geo': {},\n",
              "    'id': '1587435372052619264',\n",
              "    'in_reply_to_user_id': '1524176909755510785',\n",
              "    'lang': 'en',\n",
              "    'possibly_sensitive': False,\n",
              "    'public_metrics': {'retweet_count': 0,\n",
              "     'reply_count': 0,\n",
              "     'like_count': 0,\n",
              "     'quote_count': 0},\n",
              "    'referenced_tweets': [{'type': 'replied_to', 'id': '1587262183519490049'}],\n",
              "    'reply_settings': 'everyone',\n",
              "    'source': 'Twitter for iPhone',\n",
              "    'text': '@JebraFaushay What?  He lies on a daily basis you’re upset someone called him on it or let the rest of it go?'},\n",
              "   {'attachments': {'media_keys': ['3_1587262179891445761']},\n",
              "    'author_id': '1524176909755510785',\n",
              "    'conversation_id': '1587262183519490049',\n",
              "    'created_at': '2022-11-01T01:56:09.000Z',\n",
              "    'edit_controls': {'edits_remaining': 5,\n",
              "     'is_edit_eligible': True,\n",
              "     'editable_until': '2022-11-01T02:26:09.000Z'},\n",
              "    'edit_history_tweet_ids': ['1587262183519490049'],\n",
              "    'entities': {'urls': [{'start': 85,\n",
              "       'end': 108,\n",
              "       'url': 'https://t.co/67ui7y8mvS',\n",
              "       'expanded_url': 'https://twitter.com/JebraFaushay/status/1587262183519490049/photo/1',\n",
              "       'display_url': 'pic.twitter.com/67ui7y8mvS',\n",
              "       'media_key': '3_1587262179891445761'}]},\n",
              "    'geo': {},\n",
              "    'id': '1587262183519490049',\n",
              "    'lang': 'en',\n",
              "    'possibly_sensitive': False,\n",
              "    'public_metrics': {'retweet_count': 1591,\n",
              "     'reply_count': 2777,\n",
              "     'like_count': 8650,\n",
              "     'quote_count': 365},\n",
              "    'reply_settings': 'everyone',\n",
              "    'source': 'Twitter for iPhone',\n",
              "    'text': 'Look at this! The PRESIDENT is being fact checked. I’m literally sick to my stomach. https://t.co/67ui7y8mvS'}]},\n",
              " 'errors': None,\n",
              " 'meta': None,\n",
              " 'dtype': 'Tweet'}"
            ]
          },
          "metadata": {},
          "execution_count": 10
        }
      ]
    }
  ]
}