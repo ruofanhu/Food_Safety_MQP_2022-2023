{
  "nbformat": 4,
  "nbformat_minor": 0,
  "metadata": {
    "colab": {
      "provenance": [],
      "collapsed_sections": []
    },
    "kernelspec": {
      "name": "python3",
      "display_name": "Python 3"
    },
    "language_info": {
      "name": "python"
    }
  },
  "cells": [
    {
      "cell_type": "markdown",
      "source": [
        "## 1. Install / import required package"
      ],
      "metadata": {
        "id": "9Y5QDYhjGE5Q"
      }
    },
    {
      "cell_type": "code",
      "execution_count": null,
      "metadata": {
        "colab": {
          "base_uri": "https://localhost:8080/"
        },
        "id": "t05-f8uFk3BY",
        "outputId": "66eaba80-f9be-4969-cf18-91c74af73ce9"
      },
      "outputs": [
        {
          "output_type": "stream",
          "name": "stdout",
          "text": [
            "Looking in indexes: https://pypi.org/simple, https://us-python.pkg.dev/colab-wheels/public/simple/\n",
            "Collecting tweetkit\n",
            "  Downloading tweetkit-0.2.0-py3-none-any.whl (42 kB)\n",
            "\u001b[K     |████████████████████████████████| 42 kB 1.2 MB/s \n",
            "\u001b[?25hInstalling collected packages: tweetkit\n",
            "Successfully installed tweetkit-0.2.0\n"
          ]
        }
      ],
      "source": [
        "\n",
        "\n",
        "import datetime\n",
        "\n",
        "from tweetkit.auth import BearerTokenAuth\n",
        "from tweetkit.client import TwitterClient"
      ]
    },
    {
      "cell_type": "markdown",
      "source": [
        "## 2. Set authentication\n",
        "You can find the acount information [here](https://docs.google.com/document/d/19l7dvUETIGpNuhvUZOxwqRXz0KXcPpPF/edit?usp=share_link&ouid=101933136194359097471&rtpof=true&sd=true).\n",
        "We only need to input the **bearer token**. "
      ],
      "metadata": {
        "id": "08jtc0_mGWTi"
      }
    },
    {
      "cell_type": "code",
      "source": [
        "\n",
        "bearer_token  = '.........'\n",
        "auth = BearerTokenAuth()\n",
        "auth.bearer_token = bearer_token\n",
        "client = TwitterClient(auth=auth)"
      ],
      "metadata": {
        "id": "TKYWB-EuG6aD"
      },
      "execution_count": null,
      "outputs": []
    },
    {
      "cell_type": "markdown",
      "source": [
        "## 3. Set query parameters\n",
        "\n",
        "\n",
        "1. Learn how to build a query [here](https://developer.twitter.com/en/docs/twitter-api/tweets/counts/integrate/build-a-query).\n",
        "\n",
        "2.  You can find more details about the parameters [here](https://developer.twitter.com/en/docs/twitter-api/tweets/search/api-reference/get-tweets-search-all).\n"
      ],
      "metadata": {
        "id": "Jke1AP61G7ST"
      }
    },
    {
      "cell_type": "code",
      "source": [
        "\n",
        "## ISO-8601 format\n",
        "start_time_ = '2022-09-30T00:00:01Z' \n",
        "end_time_ = '2022-09-30T00:02:00Z'\n",
        "\n",
        "# build a query e.g.'(#Ian OR \"Hurricane Ian\" OR #HurricaneIan) -is:retweet has:geo lang:en',\n",
        "keywords = ['#foodpoisoning', '#stomachache', '\"food poison\"', '\"food poisoning\"', 'stomach', 'vomit', 'puke', 'diarrhea', '\"the runs\"']\n",
        "search_keywords = ' OR '.join(keywords) # search_keywords: #foodpoisoning OR #stomachache OR \"food poison\" OR \"food poisoning\" OR stomach OR vomit OR puke OR diarrhea OR \"the runs\"\n",
        "\n",
        "other_conditions = '-is:retweet lang:en' # has:geo\n",
        "\n",
        "final_query = '('+search_keywords+') '+ other_conditions\n",
        "\n",
        "# set other parameters\n",
        "tweet_fields_ = ['attachments', 'author_id', 'context_annotations', 'conversation_id',\n",
        "                 'created_at', 'edit_controls', 'edit_history_tweet_ids', 'entities', 'geo',\n",
        "                 'id', 'in_reply_to_user_id', 'lang', 'possibly_sensitive', \n",
        "                 'public_metrics', 'referenced_tweets', 'reply_settings', 'source', 'text','withheld']\n",
        "\n",
        "expansions_ =['attachments.media_keys', 'attachments.poll_ids', 'author_id',\n",
        "              'edit_history_tweet_ids', 'entities.mentions.username', 'geo.place_id',\n",
        "              'in_reply_to_user_id', 'referenced_tweets.id','referenced_tweets.id.author_id']\n",
        "\n",
        "media_fields_= ['alt_text', 'media_key', 'preview_image_url','public_metrics', 'type', 'url']\n",
        "poll_fields_ = ['duration_minutes', 'end_datetime', 'id', 'options', 'voting_status']\n",
        "user_fields_ = ['created_at', 'description', 'entities', 'id', 'location', 'name',\n",
        "                'pinned_tweet_id', 'profile_image_url', 'protected', 'public_metrics',\n",
        "                'url', 'username', 'verified', 'withheld']\n",
        "\n",
        "place_fields_ = ['contained_within', 'country', 'country_code', 'full_name', 'geo', 'id','name', 'place_type']\n",
        "\n",
        "\"\"\"See more details about the params in tweets_fullarchive_search here: https://tweetkit.readthedocs.io/en/latest/tweetkit.requests.html#tweetkit.requests.tweets.Tweets.tweets_fullarchive_search\"\"\"\n",
        "\n",
        "\n",
        "paginator = client.tweets.tweets_fullarchive_search(\n",
        "    query = final_query,\n",
        "    start_time = start_time_,\n",
        "    end_time = end_time_,\n",
        "    max_results = 100,\n",
        "    paginate = True,\n",
        "    tweet_fields = tweet_fields_ ,\n",
        "    expansions = expansions_ ,\n",
        "    media_fields = media_fields_ ,\n",
        "    poll_fields = poll_fields_ ,\n",
        "    user_fields = user_fields_ ,\n",
        ")\n",
        "\n",
        "tweets = []\n",
        "\n",
        "start_time = datetime.datetime.strptime(start_time_, '%Y-%m-%dT%H:%M:%SZ')\n",
        "end_time = datetime.datetime.strptime(end_time_, '%Y-%m-%dT%H:%M:%SZ')\n",
        "percentage_remaining = 0.0\n",
        "\n",
        "total_period = (end_time - start_time).total_seconds()\n",
        "\n",
        "for tweet in paginator.content:\n",
        "    created_at = datetime.datetime.strptime(tweet['data']['created_at'], '%Y-%m-%dT%H:%M:%S.%fZ')\n",
        "    # print(tweet)\n",
        "    tweets.append(tweet)\n",
        "    remaining_period = (end_time - created_at).total_seconds()\n",
        "    percentage_remaining = round(remaining_period * 100 / total_period, 2)\n",
        "    print('\\rTweet Count: {:3.0f}%, {}'.format(percentage_remaining, len(tweets)), end='')\n",
        "if percentage_remaining != 100.00:\n",
        "    print('\\rTweet Count: {:3.0f}%, {}'.format(100.00, len(tweets)), end='')\n",
        "\n"
      ],
      "metadata": {
        "id": "9tuNjJ6Wl0RO",
        "colab": {
          "base_uri": "https://localhost:8080/"
        },
        "outputId": "8a7588ef-7737-40cb-a818-c5b2bc24458f"
      },
      "execution_count": null,
      "outputs": [
        {
          "output_type": "stream",
          "name": "stdout",
          "text": [
            "\rTweet Count:   3%, 1\rTweet Count:   4%, 2\rTweet Count:   9%, 3\rTweet Count:  10%, 4\rTweet Count:  15%, 5\rTweet Count:  18%, 6\rTweet Count:  25%, 7\rTweet Count:  28%, 8\rTweet Count:  31%, 9\rTweet Count:  38%, 10\rTweet Count:  38%, 11\rTweet Count:  51%, 12\rTweet Count:  56%, 13\rTweet Count:  57%, 14\rTweet Count:  58%, 15\rTweet Count:  61%, 16\rTweet Count:  67%, 17\rTweet Count:  71%, 18\rTweet Count:  79%, 19\rTweet Count:  82%, 20\rTweet Count:  85%, 21\rTweet Count:  87%, 22\rTweet Count:  89%, 23\rTweet Count:  91%, 24\rTweet Count:  92%, 25\rTweet Count:  97%, 26\rTweet Count:  99%, 27\rTweet Count: 100%, 27"
          ]
        }
      ]
    }
  ]
}